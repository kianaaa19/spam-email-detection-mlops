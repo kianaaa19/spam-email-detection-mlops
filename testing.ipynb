{
  "cells": [
    {
      "cell_type": "code",
      "execution_count": null,
      "metadata": {
        "id": "-7aLGbOMqF9F"
      },
      "outputs": [],
      "source": [
        "import requests\n",
        "from pprint import PrettyPrinter"
      ]
    },
    {
      "cell_type": "code",
      "execution_count": null,
      "metadata": {
        "id": "Mw2jHsVFqp3Q"
      },
      "outputs": [],
      "source": [
        "import requests\n",
        "from pprint import PrettyPrinter"
      ]
    },
    {
      "cell_type": "code",
      "execution_count": null,
      "metadata": {
        "id": "Nqa0CGYxqYgp"
      },
      "outputs": [],
      "source": [
        "pp = PrettyPrinter()\n",
        "pp.pprint(requests.get(\"http://localhost:8080/v1/models/spam-detection-model\").json())"
      ]
    }
  ],
  "metadata": {
    "colab": {
      "provenance": []
    },
    "kernelspec": {
      "display_name": "Python 3 (ipykernel)",
      "language": "python",
      "name": "python3"
    },
    "language_info": {
      "codemirror_mode": {
        "name": "ipython",
        "version": 3
      },
      "file_extension": ".py",
      "mimetype": "text/x-python",
      "name": "python",
      "nbconvert_exporter": "python",
      "pygments_lexer": "ipython3",
      "version": "3.7.0"
    }
  },
  "nbformat": 4,
  "nbformat_minor": 0
}
